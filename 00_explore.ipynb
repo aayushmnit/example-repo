{
 "cells": [
  {
   "cell_type": "code",
   "execution_count": null,
   "metadata": {},
   "outputs": [],
   "source": [
    "# default_exp explore"
   ]
  },
  {
   "cell_type": "markdown",
   "metadata": {},
   "source": [
    "# Explore\n",
    "\n",
    "> Utility to explore pandas dataframe"
   ]
  },
  {
   "cell_type": "code",
   "execution_count": 28,
   "metadata": {
    "ExecuteTime": {
     "end_time": "2022-02-28T22:51:21.151873Z",
     "start_time": "2022-02-28T22:51:21.148924Z"
    }
   },
   "outputs": [],
   "source": [
    "#hide\n",
    "from nbdev.showdoc import *"
   ]
  },
  {
   "cell_type": "code",
   "execution_count": 35,
   "metadata": {
    "ExecuteTime": {
     "end_time": "2022-02-28T22:56:02.777716Z",
     "start_time": "2022-02-28T22:56:02.773185Z"
    }
   },
   "outputs": [],
   "source": [
    "#export\n",
    "import numpy as np\n",
    "import pandas as pd\n",
    "\n",
    "class Explore:\n",
    "    def __init__(self, df):\n",
    "        self.df = df.copy()\n",
    "        \n",
    "    def get_dim(self):\n",
    "        '''\n",
    "        Function to print the dimensions of a given python dataframe\n",
    "        Required Input -\n",
    "            - df = Pandas DataFrame\n",
    "        Expected Output -\n",
    "            - Data size\n",
    "        '''\n",
    "        return \"Data size: Rows-{0} Columns-{1}\".format(self.df.shape[0], self.df.shape[1])    \n",
    "    \n",
    "    def print_dataunique(self):\n",
    "        '''\n",
    "        Function to print unique information for each column in a python dataframe\n",
    "        Required Input - \n",
    "            - df = Pandas DataFrame\n",
    "        Expected Output -\n",
    "            - Column name\n",
    "            - Data type of that column\n",
    "            - Number of unique values in that column\n",
    "            - 10 unique values from that column\n",
    "        '''\n",
    "        counter = 0\n",
    "        for i in self.df.columns:\n",
    "            x = self.df.loc[:,i].unique()\n",
    "            print(counter,i,type(self.df.loc[0,i]), len(x), x[0:10])\n",
    "            counter +=1"
   ]
  },
  {
   "cell_type": "markdown",
   "metadata": {},
   "source": [
    "Explore class is a set of utilites to explore pandas dataframe"
   ]
  },
  {
   "cell_type": "code",
   "execution_count": 36,
   "metadata": {
    "ExecuteTime": {
     "end_time": "2022-02-28T22:56:04.634651Z",
     "start_time": "2022-02-28T22:56:04.629512Z"
    }
   },
   "outputs": [
    {
     "data": {
      "text/markdown": [
       "<h4 id=\"Explore.get_dim\" class=\"doc_header\"><code>Explore.get_dim</code><a href=\"__main__.py#L9\" class=\"source_link\" style=\"float:right\">[source]</a></h4>\n",
       "\n",
       "> <code>Explore.get_dim</code>()\n",
       "\n",
       "Function to print the dimensions of a given python dataframe\n",
       "Required Input -\n",
       "    - df = Pandas DataFrame\n",
       "Expected Output -\n",
       "    - Data size"
      ],
      "text/plain": [
       "<IPython.core.display.Markdown object>"
      ]
     },
     "metadata": {},
     "output_type": "display_data"
    }
   ],
   "source": [
    "show_doc(Explore.get_dim)"
   ]
  },
  {
   "cell_type": "code",
   "execution_count": 23,
   "metadata": {
    "ExecuteTime": {
     "end_time": "2022-02-28T22:44:53.903652Z",
     "start_time": "2022-02-28T22:44:53.899836Z"
    }
   },
   "outputs": [],
   "source": [
    "data = np.random.randint(0, 100, size = [10,2])\n",
    "data = pd.DataFrame(data)\n",
    "data = Explore(data)\n",
    "assert data.get_dim() == \"Data size: Rows-10 Columns-2\""
   ]
  },
  {
   "cell_type": "code",
   "execution_count": 24,
   "metadata": {
    "ExecuteTime": {
     "end_time": "2022-02-28T22:44:54.472140Z",
     "start_time": "2022-02-28T22:44:54.468066Z"
    }
   },
   "outputs": [],
   "source": [
    "data = np.random.randint(0, 100, size = [10,3])\n",
    "data = pd.DataFrame(data)\n",
    "data = Explore(data)\n",
    "assert data.get_dim() == \"Data size: Rows-10 Columns-3\""
   ]
  },
  {
   "cell_type": "code",
   "execution_count": 37,
   "metadata": {
    "ExecuteTime": {
     "end_time": "2022-02-28T22:56:10.858780Z",
     "start_time": "2022-02-28T22:56:10.852862Z"
    }
   },
   "outputs": [
    {
     "data": {
      "text/markdown": [
       "<h4 id=\"Explore.print_dataunique\" class=\"doc_header\"><code>Explore.print_dataunique</code><a href=\"__main__.py#L19\" class=\"source_link\" style=\"float:right\">[source]</a></h4>\n",
       "\n",
       "> <code>Explore.print_dataunique</code>()\n",
       "\n",
       "Function to print unique information for each column in a python dataframe\n",
       "Required Input - \n",
       "    - df = Pandas DataFrame\n",
       "Expected Output -\n",
       "    - Column name\n",
       "    - Data type of that column\n",
       "    - Number of unique values in that column\n",
       "    - 10 unique values from that column"
      ],
      "text/plain": [
       "<IPython.core.display.Markdown object>"
      ]
     },
     "metadata": {},
     "output_type": "display_data"
    }
   ],
   "source": [
    "show_doc(Explore.print_dataunique)"
   ]
  },
  {
   "cell_type": "code",
   "execution_count": 39,
   "metadata": {
    "ExecuteTime": {
     "end_time": "2022-02-28T22:56:35.630615Z",
     "start_time": "2022-02-28T22:56:35.612602Z"
    }
   },
   "outputs": [
    {
     "name": "stdout",
     "output_type": "stream",
     "text": [
      "0 0 <class 'numpy.int64'> 10 [ 6 21 36 16 93 90 45 49 87  1]\n",
      "1 1 <class 'numpy.int64'> 9 [16 17 23 46 59 22 36 31 96]\n",
      "2 2 <class 'numpy.int64'> 10 [32  4 34 91 51 79 57 25 54  9]\n",
      "3 3 <class 'numpy.int64'> 10 [69 96 12 99  6 55 97 17 70 87]\n",
      "4 4 <class 'numpy.int64'> 8 [68 28 11 60 91  4  7 66]\n",
      "5 5 <class 'numpy.int64'> 10 [22 93 45 41 26 70 50 43 49 69]\n",
      "6 6 <class 'numpy.int64'> 10 [ 6 90  4 92 13 41 52 60 88 72]\n",
      "7 7 <class 'numpy.int64'> 9 [20 37 12 61 88 46 16 31 18]\n",
      "8 8 <class 'numpy.int64'> 8 [71 36 99 43 84 19 53 48]\n",
      "9 9 <class 'numpy.int64'> 10 [76 63 17  0 79 87 14 19 53 30]\n"
     ]
    }
   ],
   "source": [
    "data = np.random.randint(0, 100, size = [10,10])\n",
    "data = pd.DataFrame(data)\n",
    "data = Explore(data)\n",
    "data.print_dataunique()"
   ]
  },
  {
   "cell_type": "code",
   "execution_count": 41,
   "metadata": {
    "ExecuteTime": {
     "end_time": "2022-02-28T22:56:42.725284Z",
     "start_time": "2022-02-28T22:56:42.604659Z"
    }
   },
   "outputs": [
    {
     "name": "stdout",
     "output_type": "stream",
     "text": [
      "Converted 00_explore.ipynb.\n",
      "Converted index.ipynb.\n"
     ]
    }
   ],
   "source": [
    "from nbdev.export import notebook2script; notebook2script()"
   ]
  }
 ],
 "metadata": {
  "kernelspec": {
   "display_name": "Python 3 (ipykernel)",
   "language": "python",
   "name": "python3"
  },
  "language_info": {
   "codemirror_mode": {
    "name": "ipython",
    "version": 3
   },
   "file_extension": ".py",
   "mimetype": "text/x-python",
   "name": "python",
   "nbconvert_exporter": "python",
   "pygments_lexer": "ipython3",
   "version": "3.8.12"
  },
  "toc": {
   "base_numbering": 1,
   "nav_menu": {},
   "number_sections": true,
   "sideBar": true,
   "skip_h1_title": false,
   "title_cell": "Table of Contents",
   "title_sidebar": "Contents",
   "toc_cell": false,
   "toc_position": {},
   "toc_section_display": true,
   "toc_window_display": false
  }
 },
 "nbformat": 4,
 "nbformat_minor": 2
}
