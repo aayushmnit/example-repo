{
 "cells": [
  {
   "cell_type": "code",
   "execution_count": null,
   "metadata": {},
   "outputs": [],
   "source": [
    "# default_exp explore"
   ]
  },
  {
   "cell_type": "markdown",
   "metadata": {},
   "source": [
    "# Explore\n",
    "\n",
    "> Utility to explore pandas dataframe"
   ]
  },
  {
   "cell_type": "code",
   "execution_count": 1,
   "metadata": {
    "ExecuteTime": {
     "end_time": "2022-02-26T00:19:07.616065Z",
     "start_time": "2022-02-26T00:19:07.101470Z"
    }
   },
   "outputs": [],
   "source": [
    "#hide\n",
    "from nbdev.showdoc import *"
   ]
  },
  {
   "cell_type": "code",
   "execution_count": 11,
   "metadata": {
    "ExecuteTime": {
     "end_time": "2022-02-26T00:21:39.009107Z",
     "start_time": "2022-02-26T00:21:39.004560Z"
    }
   },
   "outputs": [],
   "source": [
    "#export\n",
    "import numpy as np\n",
    "import pandas as pd\n",
    "\n",
    "class Explore:\n",
    "    def __init__(self, df):\n",
    "        self.df = df.copy()\n",
    "        \n",
    "    def get_dim(self):\n",
    "        '''\n",
    "        Function to print the dimensions of a given python dataframe\n",
    "        Required Input -\n",
    "            - df = Pandas DataFrame\n",
    "        Expected Output -\n",
    "            - Data size\n",
    "        '''\n",
    "        return \"Data size: Rows-{0} Columns-{1}\".format(self.df.shape[0], self.df.shape[1])    "
   ]
  },
  {
   "cell_type": "markdown",
   "metadata": {},
   "source": [
    "Explore class is a set of utilites to explore pandas dataframe"
   ]
  },
  {
   "cell_type": "code",
   "execution_count": 12,
   "metadata": {
    "ExecuteTime": {
     "end_time": "2022-02-26T00:21:40.921333Z",
     "start_time": "2022-02-26T00:21:40.917029Z"
    }
   },
   "outputs": [],
   "source": [
    "data = np.random.randint(0, 100, size = [10,2])\n",
    "data = pd.DataFrame(data)\n",
    "data = Explore(data)\n",
    "assert data.get_dim() == \"Data size: Rows-10 Columns-2\""
   ]
  },
  {
   "cell_type": "code",
   "execution_count": 14,
   "metadata": {
    "ExecuteTime": {
     "end_time": "2022-02-26T00:45:28.786142Z",
     "start_time": "2022-02-26T00:45:28.782045Z"
    }
   },
   "outputs": [],
   "source": [
    "data = np.random.randint(0, 100, size = [10,3])\n",
    "data = pd.DataFrame(data)\n",
    "data = Explore(data)\n",
    "assert data.get_dim() == \"Data size: Rows-10 Columns-3\""
   ]
  }
 ],
 "metadata": {
  "kernelspec": {
   "display_name": "Python 3 (ipykernel)",
   "language": "python",
   "name": "python3"
  },
  "language_info": {
   "codemirror_mode": {
    "name": "ipython",
    "version": 3
   },
   "file_extension": ".py",
   "mimetype": "text/x-python",
   "name": "python",
   "nbconvert_exporter": "python",
   "pygments_lexer": "ipython3",
   "version": "3.8.5"
  },
  "toc": {
   "base_numbering": 1,
   "nav_menu": {},
   "number_sections": true,
   "sideBar": true,
   "skip_h1_title": false,
   "title_cell": "Table of Contents",
   "title_sidebar": "Contents",
   "toc_cell": false,
   "toc_position": {},
   "toc_section_display": true,
   "toc_window_display": false
  }
 },
 "nbformat": 4,
 "nbformat_minor": 2
}
